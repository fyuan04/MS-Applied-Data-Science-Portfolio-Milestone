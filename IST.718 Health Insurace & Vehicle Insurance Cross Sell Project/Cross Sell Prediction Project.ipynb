{
  "nbformat": 4,
  "nbformat_minor": 0,
  "metadata": {
    "colab": {
      "name": "IST718_Final_Project.ipynb",
      "provenance": [],
      "collapsed_sections": []
    },
    "kernelspec": {
      "name": "python3",
      "display_name": "Python 3"
    }
  },
  "cells": [
    {
      "cell_type": "code",
      "metadata": {
        "id": "BF5T9TpLWjD2",
        "colab": {
          "base_uri": "https://localhost:8080/"
        },
        "outputId": "a23bd014-a20f-4974-b013-7cae5819f6de"
      },
      "source": [
        "%%bash\n",
        "# Do not change or modify this file\n",
        "# Need to install pyspark\n",
        "# if pyspark is already installed, will print a message indicating pyspark already isntalled\n",
        "pip install pyspark"
      ],
      "execution_count": 1,
      "outputs": [
        {
          "output_type": "stream",
          "text": [
            "Collecting pyspark\n",
            "  Downloading https://files.pythonhosted.org/packages/f0/26/198fc8c0b98580f617cb03cb298c6056587b8f0447e20fa40c5b634ced77/pyspark-3.0.1.tar.gz (204.2MB)\n",
            "Collecting py4j==0.10.9\n",
            "  Downloading https://files.pythonhosted.org/packages/9e/b6/6a4fb90cd235dc8e265a6a2067f2a2c99f0d91787f06aca4bcf7c23f3f80/py4j-0.10.9-py2.py3-none-any.whl (198kB)\n",
            "Building wheels for collected packages: pyspark\n",
            "  Building wheel for pyspark (setup.py): started\n",
            "  Building wheel for pyspark (setup.py): finished with status 'done'\n",
            "  Created wheel for pyspark: filename=pyspark-3.0.1-py2.py3-none-any.whl size=204612243 sha256=1db2ca2c6f678eec5afa36499e9d28f3649c1b1c49ad89446ff95e6005942205\n",
            "  Stored in directory: /root/.cache/pip/wheels/5e/bd/07/031766ca628adec8435bb40f0bd83bb676ce65ff4007f8e73f\n",
            "Successfully built pyspark\n",
            "Installing collected packages: py4j, pyspark\n",
            "Successfully installed py4j-0.10.9 pyspark-3.0.1\n"
          ],
          "name": "stdout"
        }
      ]
    },
    {
      "cell_type": "code",
      "metadata": {
        "id": "gi2Y0kH3WuyL"
      },
      "source": [
        "# import statements\n",
        "from pyspark.sql import SparkSession\n",
        "from pyspark.sql import SQLContext\n",
        "\n",
        "MAX_MEMORY = \"12g\"\n",
        "spark = SparkSession \\\n",
        "  .builder \\\n",
        "  .master(\"local[*]\")\\\n",
        "  .config(\"spark.memory.fraction\", 0.8) \\\n",
        "  .config(\"spark.executor.memory\", MAX_MEMORY) \\\n",
        "  .config(\"spark.driver.memory\", MAX_MEMORY)\\\n",
        "  .config(\"spark.memory.offHeap.enabled\",'true')\\\n",
        "  .config(\"spark.memory.offHeap.size\",MAX_MEMORY)\\\n",
        "  .getOrCreate()\n",
        "sc = spark.sparkContext\n",
        "sqlContext = SQLContext(sc)"
      ],
      "execution_count": 2,
      "outputs": []
    },
    {
      "cell_type": "code",
      "metadata": {
        "id": "x5y5aE-XWxWs",
        "colab": {
          "base_uri": "https://localhost:8080/"
        },
        "outputId": "3a12263a-498c-4c6b-e1fd-c3abca5ff097"
      },
      "source": [
        "train_df = spark.read.format(\"csv\").option(\"header\", \"true\").load(\"train.csv\")\n",
        "train_df.take(5)"
      ],
      "execution_count": 3,
      "outputs": [
        {
          "output_type": "execute_result",
          "data": {
            "text/plain": [
              "[Row(id='1', Gender='Male', Age='44', Driving_License='1', Region_Code='28.0', Previously_Insured='0', Vehicle_Age='> 2 Years', Vehicle_Damage='Yes', Annual_Premium='40454.0', Policy_Sales_Channel='26.0', Vintage='217', Response='1'),\n",
              " Row(id='2', Gender='Male', Age='76', Driving_License='1', Region_Code='3.0', Previously_Insured='0', Vehicle_Age='1-2 Year', Vehicle_Damage='No', Annual_Premium='33536.0', Policy_Sales_Channel='26.0', Vintage='183', Response='0'),\n",
              " Row(id='3', Gender='Male', Age='47', Driving_License='1', Region_Code='28.0', Previously_Insured='0', Vehicle_Age='> 2 Years', Vehicle_Damage='Yes', Annual_Premium='38294.0', Policy_Sales_Channel='26.0', Vintage='27', Response='1'),\n",
              " Row(id='4', Gender='Male', Age='21', Driving_License='1', Region_Code='11.0', Previously_Insured='1', Vehicle_Age='< 1 Year', Vehicle_Damage='No', Annual_Premium='28619.0', Policy_Sales_Channel='152.0', Vintage='203', Response='0'),\n",
              " Row(id='5', Gender='Female', Age='29', Driving_License='1', Region_Code='41.0', Previously_Insured='1', Vehicle_Age='< 1 Year', Vehicle_Damage='No', Annual_Premium='27496.0', Policy_Sales_Channel='152.0', Vintage='39', Response='0')]"
            ]
          },
          "metadata": {
            "tags": []
          },
          "execution_count": 3
        }
      ]
    },
    {
      "cell_type": "code",
      "metadata": {
        "id": "kXJ7_RHwW0C_",
        "colab": {
          "base_uri": "https://localhost:8080/",
          "height": 204
        },
        "outputId": "66687b89-ee0f-4d85-8a4d-cf6b6fe94614"
      },
      "source": [
        "from pyspark.sql.functions import *\n",
        "train_df = train_df.drop('id')\n",
        "display(train_df.toPandas().head())"
      ],
      "execution_count": 4,
      "outputs": [
        {
          "output_type": "display_data",
          "data": {
            "text/html": [
              "<div>\n",
              "<style scoped>\n",
              "    .dataframe tbody tr th:only-of-type {\n",
              "        vertical-align: middle;\n",
              "    }\n",
              "\n",
              "    .dataframe tbody tr th {\n",
              "        vertical-align: top;\n",
              "    }\n",
              "\n",
              "    .dataframe thead th {\n",
              "        text-align: right;\n",
              "    }\n",
              "</style>\n",
              "<table border=\"1\" class=\"dataframe\">\n",
              "  <thead>\n",
              "    <tr style=\"text-align: right;\">\n",
              "      <th></th>\n",
              "      <th>Gender</th>\n",
              "      <th>Age</th>\n",
              "      <th>Driving_License</th>\n",
              "      <th>Region_Code</th>\n",
              "      <th>Previously_Insured</th>\n",
              "      <th>Vehicle_Age</th>\n",
              "      <th>Vehicle_Damage</th>\n",
              "      <th>Annual_Premium</th>\n",
              "      <th>Policy_Sales_Channel</th>\n",
              "      <th>Vintage</th>\n",
              "      <th>Response</th>\n",
              "    </tr>\n",
              "  </thead>\n",
              "  <tbody>\n",
              "    <tr>\n",
              "      <th>0</th>\n",
              "      <td>Male</td>\n",
              "      <td>44</td>\n",
              "      <td>1</td>\n",
              "      <td>28.0</td>\n",
              "      <td>0</td>\n",
              "      <td>&gt; 2 Years</td>\n",
              "      <td>Yes</td>\n",
              "      <td>40454.0</td>\n",
              "      <td>26.0</td>\n",
              "      <td>217</td>\n",
              "      <td>1</td>\n",
              "    </tr>\n",
              "    <tr>\n",
              "      <th>1</th>\n",
              "      <td>Male</td>\n",
              "      <td>76</td>\n",
              "      <td>1</td>\n",
              "      <td>3.0</td>\n",
              "      <td>0</td>\n",
              "      <td>1-2 Year</td>\n",
              "      <td>No</td>\n",
              "      <td>33536.0</td>\n",
              "      <td>26.0</td>\n",
              "      <td>183</td>\n",
              "      <td>0</td>\n",
              "    </tr>\n",
              "    <tr>\n",
              "      <th>2</th>\n",
              "      <td>Male</td>\n",
              "      <td>47</td>\n",
              "      <td>1</td>\n",
              "      <td>28.0</td>\n",
              "      <td>0</td>\n",
              "      <td>&gt; 2 Years</td>\n",
              "      <td>Yes</td>\n",
              "      <td>38294.0</td>\n",
              "      <td>26.0</td>\n",
              "      <td>27</td>\n",
              "      <td>1</td>\n",
              "    </tr>\n",
              "    <tr>\n",
              "      <th>3</th>\n",
              "      <td>Male</td>\n",
              "      <td>21</td>\n",
              "      <td>1</td>\n",
              "      <td>11.0</td>\n",
              "      <td>1</td>\n",
              "      <td>&lt; 1 Year</td>\n",
              "      <td>No</td>\n",
              "      <td>28619.0</td>\n",
              "      <td>152.0</td>\n",
              "      <td>203</td>\n",
              "      <td>0</td>\n",
              "    </tr>\n",
              "    <tr>\n",
              "      <th>4</th>\n",
              "      <td>Female</td>\n",
              "      <td>29</td>\n",
              "      <td>1</td>\n",
              "      <td>41.0</td>\n",
              "      <td>1</td>\n",
              "      <td>&lt; 1 Year</td>\n",
              "      <td>No</td>\n",
              "      <td>27496.0</td>\n",
              "      <td>152.0</td>\n",
              "      <td>39</td>\n",
              "      <td>0</td>\n",
              "    </tr>\n",
              "  </tbody>\n",
              "</table>\n",
              "</div>"
            ],
            "text/plain": [
              "   Gender Age Driving_License  ... Policy_Sales_Channel Vintage Response\n",
              "0    Male  44               1  ...                 26.0     217        1\n",
              "1    Male  76               1  ...                 26.0     183        0\n",
              "2    Male  47               1  ...                 26.0      27        1\n",
              "3    Male  21               1  ...                152.0     203        0\n",
              "4  Female  29               1  ...                152.0      39        0\n",
              "\n",
              "[5 rows x 11 columns]"
            ]
          },
          "metadata": {
            "tags": []
          }
        }
      ]
    },
    {
      "cell_type": "code",
      "metadata": {
        "id": "6BtoOH17W4oh",
        "colab": {
          "base_uri": "https://localhost:8080/",
          "height": 350
        },
        "outputId": "4045e343-dfab-4922-e118-638bd3eee3c3"
      },
      "source": [
        "import seaborn as sns\n",
        "train_pd_df = train_df.toPandas()\n",
        "sns.countplot(train_pd_df.Gender)"
      ],
      "execution_count": 6,
      "outputs": [
        {
          "output_type": "stream",
          "text": [
            "/usr/local/lib/python3.6/dist-packages/seaborn/_decorators.py:43: FutureWarning: Pass the following variable as a keyword arg: x. From version 0.12, the only valid positional argument will be `data`, and passing other arguments without an explicit keyword will result in an error or misinterpretation.\n",
            "  FutureWarning\n"
          ],
          "name": "stderr"
        },
        {
          "output_type": "execute_result",
          "data": {
            "text/plain": [
              "<matplotlib.axes._subplots.AxesSubplot at 0x7fcb8a359438>"
            ]
          },
          "metadata": {
            "tags": []
          },
          "execution_count": 6
        },
        {
          "output_type": "display_data",
          "data": {
            "image/png": "[encoded data removed]",
            "text/plain": [
              "<Figure size 432x288 with 1 Axes>"
            ]
          },
          "metadata": {
            "tags": [],
            "needs_background": "light"
          }
        }
      ]
    },
    {
      "cell_type": "code",
      "metadata": {
        "id": "opUk6RjeXAgn",
        "colab": {
          "base_uri": "https://localhost:8080/",
          "height": 351
        },
        "outputId": "f8f26ab2-1d9c-458d-df69-20c561b8effd"
      },
      "source": [
        "sns.countplot(train_pd_df.Vehicle_Age)"
      ],
      "execution_count": 7,
      "outputs": [
        {
          "output_type": "stream",
          "text": [
            "/usr/local/lib/python3.6/dist-packages/seaborn/_decorators.py:43: FutureWarning: Pass the following variable as a keyword arg: x. From version 0.12, the only valid positional argument will be `data`, and passing other arguments without an explicit keyword will result in an error or misinterpretation.\n",
            "  FutureWarning\n"
          ],
          "name": "stderr"
        },
        {
          "output_type": "execute_result",
          "data": {
            "text/plain": [
              "<matplotlib.axes._subplots.AxesSubplot at 0x7fcb87d5d390>"
            ]
          },
          "metadata": {
            "tags": []
          },
          "execution_count": 7
        },
        {
          "output_type": "display_data",
          "data": {
            "image/png": "[encoded data removed]",
            "text/plain": [
              "<Figure size 432x288 with 1 Axes>"
            ]
          },
          "metadata": {
            "tags": [],
            "needs_background": "light"
          }
        }
      ]
    },
    {
      "cell_type": "code",
      "metadata": {
        "id": "X26HjBrbXDLN",
        "colab": {
          "base_uri": "https://localhost:8080/",
          "height": 353
        },
        "outputId": "c9ff035b-660c-412f-f83b-02d60930ca3a"
      },
      "source": [
        "sns.countplot(train_pd_df.Vehicle_Damage)"
      ],
      "execution_count": 8,
      "outputs": [
        {
          "output_type": "stream",
          "text": [
            "/usr/local/lib/python3.6/dist-packages/seaborn/_decorators.py:43: FutureWarning: Pass the following variable as a keyword arg: x. From version 0.12, the only valid positional argument will be `data`, and passing other arguments without an explicit keyword will result in an error or misinterpretation.\n",
            "  FutureWarning\n"
          ],
          "name": "stderr"
        },
        {
          "output_type": "execute_result",
          "data": {
            "text/plain": [
              "<matplotlib.axes._subplots.AxesSubplot at 0x7fcb96461dd8>"
            ]
          },
          "metadata": {
            "tags": []
          },
          "execution_count": 8
        },
        {
          "output_type": "display_data",
          "data": {
            "image/png": "[encoded data removed]",
            "text/plain": [
              "<Figure size 432x288 with 1 Axes>"
            ]
          },
          "metadata": {
            "tags": [],
            "needs_background": "light"
          }
        }
      ]
    },
    {
      "cell_type": "code",
      "metadata": {
        "id": "Co-SBE1cXKSt"
      },
      "source": [
        "train_df = train_df.withColumn(\"Gender\", when(train_df.Gender == 'Male', 1).otherwise(0))\n",
        "train_df = train_df.withColumn(\"Vehicle_Damage\", when(train_df.Vehicle_Damage == 'Yes', 1).otherwise(0))\n",
        "train_df = train_df.withColumn(\"Vehicle_Age\", when(train_df.Vehicle_Age == '> 2 Years', 2).when(train_df.Vehicle_Age == '1-2 Year', 1).otherwise(0))"
      ],
      "execution_count": 9,
      "outputs": []
    },
    {
      "cell_type": "code",
      "metadata": {
        "id": "VTkvvte0XNIz"
      },
      "source": [
        "from pyspark.ml import Pipeline\n",
        "from pyspark.ml.feature import StringIndexer\n",
        "from pyspark.ml.feature import StringIndexerModel\n",
        "\n",
        "indexer_1 = StringIndexerModel.from_labels(['Female', 'Male'], inputCol=\"Gender\", outputCol=\"Gender_idx\")\n",
        "indexer_2 = StringIndexerModel.from_labels(['No', 'Yes'], inputCol=\"Vehicle_Damage\", outputCol=\"Vehicle_Damage_idx\")\n",
        "indexer_3 = StringIndexerModel.from_labels(['< 1 Year', '1-2 Year', '> 2 Years'], inputCol=\"Vehicle_Age\", outputCol=\"Vehicle_Age_idx\")\n",
        "\n",
        "feature_engineering_pipe = Pipeline(stages=[indexer_1, indexer_2, indexer_3])\n",
        "temp_df = feature_engineering_pipe.fit(train_df).transform(train_df)\n",
        "columns_to_drop = ['Gender', 'Vehicle_Damage', 'Vehicle_Age']\n",
        "temp_df = temp_df.drop(*columns_to_drop)\n",
        "train_df_new = temp_df.withColumnRenamed(\"Gender_idx\", \"Gender\").withColumnRenamed(\"Vehicle_Damage_idx\", \"Vehicle_Damage\").withColumnRenamed(\"Vehicle_Age_idx\", \"Vehicle_Age\")"
      ],
      "execution_count": 5,
      "outputs": []
    },
    {
      "cell_type": "code",
      "metadata": {
        "id": "gM3XuCnZXQgt",
        "colab": {
          "base_uri": "https://localhost:8080/",
          "height": 204
        },
        "outputId": "145e2383-f2df-45fe-cb09-16b2359bea92"
      },
      "source": [
        "display(train_df_new.toPandas().head())"
      ],
      "execution_count": 23,
      "outputs": [
        {
          "output_type": "display_data",
          "data": {
            "text/html": [
              "<div>\n",
              "<style scoped>\n",
              "    .dataframe tbody tr th:only-of-type {\n",
              "        vertical-align: middle;\n",
              "    }\n",
              "\n",
              "    .dataframe tbody tr th {\n",
              "        vertical-align: top;\n",
              "    }\n",
              "\n",
              "    .dataframe thead th {\n",
              "        text-align: right;\n",
              "    }\n",
              "</style>\n",
              "<table border=\"1\" class=\"dataframe\">\n",
              "  <thead>\n",
              "    <tr style=\"text-align: right;\">\n",
              "      <th></th>\n",
              "      <th>Age</th>\n",
              "      <th>Driving_License</th>\n",
              "      <th>Region_Code</th>\n",
              "      <th>Previously_Insured</th>\n",
              "      <th>Annual_Premium</th>\n",
              "      <th>Policy_Sales_Channel</th>\n",
              "      <th>Vintage</th>\n",
              "      <th>Response</th>\n",
              "      <th>Gender</th>\n",
              "      <th>Vehicle_Damage</th>\n",
              "      <th>Vehicle_Age</th>\n",
              "    </tr>\n",
              "  </thead>\n",
              "  <tbody>\n",
              "    <tr>\n",
              "      <th>0</th>\n",
              "      <td>44.0</td>\n",
              "      <td>1.0</td>\n",
              "      <td>28.0</td>\n",
              "      <td>0.0</td>\n",
              "      <td>40454.0</td>\n",
              "      <td>26.0</td>\n",
              "      <td>217.0</td>\n",
              "      <td>1.0</td>\n",
              "      <td>1.0</td>\n",
              "      <td>1.0</td>\n",
              "      <td>2.0</td>\n",
              "    </tr>\n",
              "    <tr>\n",
              "      <th>1</th>\n",
              "      <td>76.0</td>\n",
              "      <td>1.0</td>\n",
              "      <td>3.0</td>\n",
              "      <td>0.0</td>\n",
              "      <td>33536.0</td>\n",
              "      <td>26.0</td>\n",
              "      <td>183.0</td>\n",
              "      <td>0.0</td>\n",
              "      <td>1.0</td>\n",
              "      <td>0.0</td>\n",
              "      <td>1.0</td>\n",
              "    </tr>\n",
              "    <tr>\n",
              "      <th>2</th>\n",
              "      <td>47.0</td>\n",
              "      <td>1.0</td>\n",
              "      <td>28.0</td>\n",
              "      <td>0.0</td>\n",
              "      <td>38294.0</td>\n",
              "      <td>26.0</td>\n",
              "      <td>27.0</td>\n",
              "      <td>1.0</td>\n",
              "      <td>1.0</td>\n",
              "      <td>1.0</td>\n",
              "      <td>2.0</td>\n",
              "    </tr>\n",
              "    <tr>\n",
              "      <th>3</th>\n",
              "      <td>21.0</td>\n",
              "      <td>1.0</td>\n",
              "      <td>11.0</td>\n",
              "      <td>1.0</td>\n",
              "      <td>28619.0</td>\n",
              "      <td>152.0</td>\n",
              "      <td>203.0</td>\n",
              "      <td>0.0</td>\n",
              "      <td>1.0</td>\n",
              "      <td>0.0</td>\n",
              "      <td>0.0</td>\n",
              "    </tr>\n",
              "    <tr>\n",
              "      <th>4</th>\n",
              "      <td>29.0</td>\n",
              "      <td>1.0</td>\n",
              "      <td>41.0</td>\n",
              "      <td>1.0</td>\n",
              "      <td>27496.0</td>\n",
              "      <td>152.0</td>\n",
              "      <td>39.0</td>\n",
              "      <td>0.0</td>\n",
              "      <td>0.0</td>\n",
              "      <td>0.0</td>\n",
              "      <td>0.0</td>\n",
              "    </tr>\n",
              "  </tbody>\n",
              "</table>\n",
              "</div>"
            ],
            "text/plain": [
              "    Age  Driving_License  Region_Code  ...  Gender  Vehicle_Damage  Vehicle_Age\n",
              "0  44.0              1.0         28.0  ...     1.0             1.0          2.0\n",
              "1  76.0              1.0          3.0  ...     1.0             0.0          1.0\n",
              "2  47.0              1.0         28.0  ...     1.0             1.0          2.0\n",
              "3  21.0              1.0         11.0  ...     1.0             0.0          0.0\n",
              "4  29.0              1.0         41.0  ...     0.0             0.0          0.0\n",
              "\n",
              "[5 rows x 11 columns]"
            ]
          },
          "metadata": {
            "tags": []
          }
        }
      ]
    },
    {
      "cell_type": "code",
      "metadata": {
        "id": "SdOet1ZtXS9r",
        "colab": {
          "base_uri": "https://localhost:8080/"
        },
        "outputId": "d76f156e-e891-408b-9297-a9c0bb81bb30"
      },
      "source": [
        "train_df_new.dtypes"
      ],
      "execution_count": 7,
      "outputs": [
        {
          "output_type": "execute_result",
          "data": {
            "text/plain": [
              "[('Age', 'string'),\n",
              " ('Driving_License', 'string'),\n",
              " ('Region_Code', 'string'),\n",
              " ('Previously_Insured', 'string'),\n",
              " ('Annual_Premium', 'string'),\n",
              " ('Policy_Sales_Channel', 'string'),\n",
              " ('Vintage', 'string'),\n",
              " ('Response', 'string'),\n",
              " ('Gender', 'double'),\n",
              " ('Vehicle_Damage', 'double'),\n",
              " ('Vehicle_Age', 'double')]"
            ]
          },
          "metadata": {
            "tags": []
          },
          "execution_count": 7
        }
      ]
    },
    {
      "cell_type": "code",
      "metadata": {
        "id": "CK79a6JCXWEU"
      },
      "source": [
        "#from pyspark.sql.types import IntegerType\n",
        "from pyspark.sql.types import DoubleType\n",
        "\n",
        "train_df_new = train_df_new.withColumn(\"Age\", train_df_new[\"Age\"].cast(DoubleType()))\n",
        "train_df_new = train_df_new.withColumn(\"Driving_License\", train_df_new[\"Driving_License\"].cast(DoubleType()))\n",
        "train_df_new = train_df_new.withColumn(\"Region_Code\", train_df_new[\"Region_Code\"].cast(DoubleType()))\n",
        "train_df_new = train_df_new.withColumn(\"Previously_Insured\", train_df_new[\"Previously_Insured\"].cast(DoubleType()))\n",
        "train_df_new = train_df_new.withColumn(\"Annual_Premium\", train_df_new[\"Annual_Premium\"].cast(DoubleType()))\n",
        "train_df_new = train_df_new.withColumn(\"Policy_Sales_Channel\", train_df_new[\"Policy_Sales_Channel\"].cast(DoubleType()))\n",
        "train_df_new = train_df_new.withColumn(\"Vintage\", train_df_new[\"Vintage\"].cast(DoubleType()))\n",
        "train_df_new = train_df_new.withColumn(\"Response\", train_df_new[\"Response\"].cast(DoubleType()))"
      ],
      "execution_count": 8,
      "outputs": []
    },
    {
      "cell_type": "code",
      "metadata": {
        "id": "LgRZ-6f5XYur"
      },
      "source": [
        "from pyspark.ml.feature import VectorAssembler\n",
        "from pyspark.ml.feature import StandardScaler\n",
        "#train_df.dtypes\n",
        "vecAssembler = VectorAssembler(inputCols=['Gender', 'Age', 'Driving_License', 'Region_Code', 'Previously_Insured', 'Vehicle_Age', 'Vehicle_Damage', 'Annual_Premium', 'Policy_Sales_Channel', 'Vintage'], outputCol=\"features\")\n",
        "#train_df = vecAssembler.transform(train_df)\n",
        "sc = StandardScaler(withMean=True, withStd=True, inputCol='features')"
      ],
      "execution_count": 9,
      "outputs": []
    },
    {
      "cell_type": "code",
      "metadata": {
        "id": "Sd_-aoaKXf59"
      },
      "source": [
        "from pyspark.ml.evaluation import BinaryClassificationEvaluator\n",
        "\n",
        "\n",
        "evaluator = BinaryClassificationEvaluator(labelCol=\"Response\", metricName=\"areaUnderROC\")"
      ],
      "execution_count": 10,
      "outputs": []
    },
    {
      "cell_type": "code",
      "metadata": {
        "id": "XWq-6KXfXl2a"
      },
      "source": [
        "training_df, testing_df = train_df_new2.randomSplit([0.7, 0.3])"
      ],
      "execution_count": 35,
      "outputs": []
    },
    {
      "cell_type": "code",
      "metadata": {
        "id": "YMryKE1-Xs5e"
      },
      "source": [
        "#RF\n",
        "from pyspark.ml.classification import RandomForestClassifier\n",
        "\n",
        "rf = RandomForestClassifier(labelCol=\"Response\", featuresCol=\"features\")\n",
        "\n",
        "rf_pipeline = Pipeline(stages=[vecAssembler, rf]).fit(training_df)\n",
        "rf_model = rf_pipeline.transform(testing_df)"
      ],
      "execution_count": 46,
      "outputs": []
    },
    {
      "cell_type": "code",
      "metadata": {
        "id": "mKY-YdDGX4K_",
        "colab": {
          "base_uri": "https://localhost:8080/"
        },
        "outputId": "13a15de3-a999-4690-a321-ffd9d232226d"
      },
      "source": [
        "print(evaluator.evaluate(rf_model))"
      ],
      "execution_count": 47,
      "outputs": [
        {
          "output_type": "stream",
          "text": [
            "0.8458061120250483\n"
          ],
          "name": "stdout"
        }
      ]
    },
    {
      "cell_type": "code",
      "metadata": {
        "id": "Ma2TeaqWX6NL"
      },
      "source": [
        "feature_importances = rf_pipeline.stages[-1].featureImportances\n",
        "feature_imp_array = feature_importances.toArray()"
      ],
      "execution_count": null,
      "outputs": []
    },
    {
      "cell_type": "code",
      "metadata": {
        "id": "wNtlxj5UX8c4"
      },
      "source": [
        "print(feature_imp_array)"
      ],
      "execution_count": null,
      "outputs": []
    },
    {
      "cell_type": "code",
      "metadata": {
        "id": "N0_xiYUcX-9S"
      },
      "source": [
        "predictors = ['Gender', 'Age', 'Driving_License', 'Region_Code', 'Previously_Insured', 'Vehicle_Age', 'Vehicle_Damage', 'Annual_Premium', 'Policy_Sales_Channel', 'Vintage']\n",
        "\n",
        "feats = {} # a dict to hold feature_name: feature_importance\n",
        "for feature, importance in zip(predictors, feature_imp_array):\n",
        "    feats[feature] = importance"
      ],
      "execution_count": null,
      "outputs": []
    },
    {
      "cell_type": "code",
      "metadata": {
        "id": "UoxaZ_gfYl77"
      },
      "source": [
        "import pandas as pd\n",
        "\n",
        "importances = pd.DataFrame.from_dict(feats, orient='index').rename(columns={0: 'Gini-importance'})\n",
        "importances.sort_values(by='Gini-importance').plot(kind='bar', rot=90, title='RF feature importance')"
      ],
      "execution_count": null,
      "outputs": []
    },
    {
      "cell_type": "code",
      "metadata": {
        "id": "8Z5DxkMDYpZt"
      },
      "source": [
        "from sklearn.metrics import precision_score, recall_score\n",
        "from sklearn.metrics import classification_report\n",
        "\n",
        "#actual = rf_model_pd['Response'].tolist()\n",
        "#pred = rf_model_pd['prediction'].tolist()\n",
        "\n",
        "y_true = rf_model.select(['Response']).collect()\n",
        "y_pred = rf_model.select(['prediction']).collect()\n",
        "\n",
        "#print(classification_report(actual, pred))\n",
        "#print(precision_score(actual, pred))\n",
        "print(classification_report(y_true, y_pred))"
      ],
      "execution_count": null,
      "outputs": []
    },
    {
      "cell_type": "code",
      "metadata": {
        "id": "rVazJJi-Za9B",
        "colab": {
          "base_uri": "https://localhost:8080/"
        },
        "outputId": "f6193bc3-8bba-4a8d-8476-273fe4e73da5"
      },
      "source": [
        "pip install imblearn"
      ],
      "execution_count": 14,
      "outputs": [
        {
          "output_type": "stream",
          "text": [
            "Requirement already satisfied: imblearn in /usr/local/lib/python3.6/dist-packages (0.0)\n",
            "Requirement already satisfied: imbalanced-learn in /usr/local/lib/python3.6/dist-packages (from imblearn) (0.4.3)\n",
            "Requirement already satisfied: scipy>=0.13.3 in /usr/local/lib/python3.6/dist-packages (from imbalanced-learn->imblearn) (1.4.1)\n",
            "Requirement already satisfied: scikit-learn>=0.20 in /usr/local/lib/python3.6/dist-packages (from imbalanced-learn->imblearn) (0.22.2.post1)\n",
            "Requirement already satisfied: numpy>=1.8.2 in /usr/local/lib/python3.6/dist-packages (from imbalanced-learn->imblearn) (1.18.5)\n",
            "Requirement already satisfied: joblib>=0.11 in /usr/local/lib/python3.6/dist-packages (from scikit-learn>=0.20->imbalanced-learn->imblearn) (0.17.0)\n"
          ],
          "name": "stdout"
        }
      ]
    },
    {
      "cell_type": "code",
      "metadata": {
        "colab": {
          "base_uri": "https://localhost:8080/",
          "height": 323
        },
        "id": "XbiZLGkYwY1t",
        "outputId": "2ddc325b-fc79-4795-fed7-c642d1cf1a17"
      },
      "source": [
        "from collections import Counter\n",
        "print(Counter(testing_df))"
      ],
      "execution_count": 16,
      "outputs": [
        {
          "output_type": "error",
          "ename": "TypeError",
          "evalue": "ignored",
          "traceback": [
            "\u001b[0;31m---------------------------------------------------------------------------\u001b[0m",
            "\u001b[0;31mTypeError\u001b[0m                                 Traceback (most recent call last)",
            "\u001b[0;32m<ipython-input-16-a46ccdbed86f>\u001b[0m in \u001b[0;36m<module>\u001b[0;34m()\u001b[0m\n\u001b[1;32m      1\u001b[0m \u001b[0;32mfrom\u001b[0m \u001b[0mcollections\u001b[0m \u001b[0;32mimport\u001b[0m \u001b[0mCounter\u001b[0m\u001b[0;34m\u001b[0m\u001b[0;34m\u001b[0m\u001b[0m\n\u001b[0;32m----> 2\u001b[0;31m \u001b[0mprint\u001b[0m\u001b[0;34m(\u001b[0m\u001b[0mCounter\u001b[0m\u001b[0;34m(\u001b[0m\u001b[0mtesting_df\u001b[0m\u001b[0;34m)\u001b[0m\u001b[0;34m)\u001b[0m\u001b[0;34m\u001b[0m\u001b[0;34m\u001b[0m\u001b[0m\n\u001b[0m",
            "\u001b[0;32m/usr/lib/python3.6/collections/__init__.py\u001b[0m in \u001b[0;36m__init__\u001b[0;34m(*args, **kwds)\u001b[0m\n\u001b[1;32m    533\u001b[0m             \u001b[0;32mraise\u001b[0m \u001b[0mTypeError\u001b[0m\u001b[0;34m(\u001b[0m\u001b[0;34m'expected at most 1 arguments, got %d'\u001b[0m \u001b[0;34m%\u001b[0m \u001b[0mlen\u001b[0m\u001b[0;34m(\u001b[0m\u001b[0margs\u001b[0m\u001b[0;34m)\u001b[0m\u001b[0;34m)\u001b[0m\u001b[0;34m\u001b[0m\u001b[0;34m\u001b[0m\u001b[0m\n\u001b[1;32m    534\u001b[0m         \u001b[0msuper\u001b[0m\u001b[0;34m(\u001b[0m\u001b[0mCounter\u001b[0m\u001b[0;34m,\u001b[0m \u001b[0mself\u001b[0m\u001b[0;34m)\u001b[0m\u001b[0;34m.\u001b[0m\u001b[0m__init__\u001b[0m\u001b[0;34m(\u001b[0m\u001b[0;34m)\u001b[0m\u001b[0;34m\u001b[0m\u001b[0;34m\u001b[0m\u001b[0m\n\u001b[0;32m--> 535\u001b[0;31m         \u001b[0mself\u001b[0m\u001b[0;34m.\u001b[0m\u001b[0mupdate\u001b[0m\u001b[0;34m(\u001b[0m\u001b[0;34m*\u001b[0m\u001b[0margs\u001b[0m\u001b[0;34m,\u001b[0m \u001b[0;34m**\u001b[0m\u001b[0mkwds\u001b[0m\u001b[0;34m)\u001b[0m\u001b[0;34m\u001b[0m\u001b[0;34m\u001b[0m\u001b[0m\n\u001b[0m\u001b[1;32m    536\u001b[0m \u001b[0;34m\u001b[0m\u001b[0m\n\u001b[1;32m    537\u001b[0m     \u001b[0;32mdef\u001b[0m \u001b[0m__missing__\u001b[0m\u001b[0;34m(\u001b[0m\u001b[0mself\u001b[0m\u001b[0;34m,\u001b[0m \u001b[0mkey\u001b[0m\u001b[0;34m)\u001b[0m\u001b[0;34m:\u001b[0m\u001b[0;34m\u001b[0m\u001b[0;34m\u001b[0m\u001b[0m\n",
            "\u001b[0;32m/usr/lib/python3.6/collections/__init__.py\u001b[0m in \u001b[0;36mupdate\u001b[0;34m(*args, **kwds)\u001b[0m\n\u001b[1;32m    620\u001b[0m                     \u001b[0msuper\u001b[0m\u001b[0;34m(\u001b[0m\u001b[0mCounter\u001b[0m\u001b[0;34m,\u001b[0m \u001b[0mself\u001b[0m\u001b[0;34m)\u001b[0m\u001b[0;34m.\u001b[0m\u001b[0mupdate\u001b[0m\u001b[0;34m(\u001b[0m\u001b[0miterable\u001b[0m\u001b[0;34m)\u001b[0m \u001b[0;31m# fast path when counter is empty\u001b[0m\u001b[0;34m\u001b[0m\u001b[0;34m\u001b[0m\u001b[0m\n\u001b[1;32m    621\u001b[0m             \u001b[0;32melse\u001b[0m\u001b[0;34m:\u001b[0m\u001b[0;34m\u001b[0m\u001b[0;34m\u001b[0m\u001b[0m\n\u001b[0;32m--> 622\u001b[0;31m                 \u001b[0m_count_elements\u001b[0m\u001b[0;34m(\u001b[0m\u001b[0mself\u001b[0m\u001b[0;34m,\u001b[0m \u001b[0miterable\u001b[0m\u001b[0;34m)\u001b[0m\u001b[0;34m\u001b[0m\u001b[0;34m\u001b[0m\u001b[0m\n\u001b[0m\u001b[1;32m    623\u001b[0m         \u001b[0;32mif\u001b[0m \u001b[0mkwds\u001b[0m\u001b[0;34m:\u001b[0m\u001b[0;34m\u001b[0m\u001b[0;34m\u001b[0m\u001b[0m\n\u001b[1;32m    624\u001b[0m             \u001b[0mself\u001b[0m\u001b[0;34m.\u001b[0m\u001b[0mupdate\u001b[0m\u001b[0;34m(\u001b[0m\u001b[0mkwds\u001b[0m\u001b[0;34m)\u001b[0m\u001b[0;34m\u001b[0m\u001b[0;34m\u001b[0m\u001b[0m\n",
            "\u001b[0;31mTypeError\u001b[0m: unhashable type: 'Column'"
          ]
        }
      ]
    },
    {
      "cell_type": "code",
      "metadata": {
        "id": "BbsG2LW3v1fW"
      },
      "source": [
        "from imblearn.under_sampling import RandomUnderSampler\n",
        "\n",
        "undersample = RandomUnderSampler(sampling_strategy='majority')\n"
      ],
      "execution_count": 25,
      "outputs": []
    },
    {
      "cell_type": "code",
      "metadata": {
        "colab": {
          "base_uri": "https://localhost:8080/"
        },
        "id": "8BPBoxO8sc4O",
        "outputId": "b5393450-ec02-4fd4-907c-4f85160cae76"
      },
      "source": [
        "X = train_df_new.toPandas().filter(items=['Age', 'Driving_License', 'Region_Code', 'Previously_Insured', 'Annual_Premium', 'Policy_Sales_Channel', 'Vintage', 'Gender', 'Vehicle_Damage', 'Vehicle_Age'])\n",
        "Y = train_df_new.toPandas().filter(items=['Response'])\n",
        "print(X.shape)\n",
        "print(Y.shape)"
      ],
      "execution_count": 24,
      "outputs": [
        {
          "output_type": "stream",
          "text": [
            "(381109, 10)\n",
            "(381109, 1)\n"
          ],
          "name": "stdout"
        }
      ]
    },
    {
      "cell_type": "code",
      "metadata": {
        "id": "yY73aUgj8H2r"
      },
      "source": [
        "X = training_df.toPandas().to_numpy()\n",
        "y = testing_df.toPandas().to_numpy()"
      ],
      "execution_count": 20,
      "outputs": []
    },
    {
      "cell_type": "code",
      "metadata": {
        "colab": {
          "base_uri": "https://localhost:8080/"
        },
        "id": "MIHQCV-c1Sev",
        "outputId": "e8426bf6-b6df-49da-94f0-2c4bac596852"
      },
      "source": [
        "#type(X)\n",
        "X_under, y_under = undersample.fit_resample(X, Y)"
      ],
      "execution_count": 26,
      "outputs": [
        {
          "output_type": "stream",
          "text": [
            "/usr/local/lib/python3.6/dist-packages/sklearn/utils/deprecation.py:87: FutureWarning: Function safe_indexing is deprecated; safe_indexing is deprecated in version 0.22 and will be removed in version 0.24.\n",
            "  warnings.warn(msg, category=FutureWarning)\n"
          ],
          "name": "stderr"
        }
      ]
    },
    {
      "cell_type": "code",
      "metadata": {
        "id": "u95ruZaEukAb"
      },
      "source": [
        "#len(X_under)\n",
        "import pandas as pd\n",
        "\n",
        "dataframe_1 = pd.DataFrame(X_under, columns=['Age', 'Driving_License', 'Region_Code', 'Previously_Insured', 'Annual_Premium', 'Policy_Sales_Channel', 'Vintage', 'Gender', 'Vehicle_Damage', 'Vehicle_Age'])\n",
        "dataframe_2 = pd.DataFrame(y_under, columns = ['Response'])\n",
        "result_df = dataframe_1.combine_first(dataframe_2)"
      ],
      "execution_count": 32,
      "outputs": []
    },
    {
      "cell_type": "code",
      "metadata": {
        "colab": {
          "base_uri": "https://localhost:8080/"
        },
        "id": "nq2y75vlvnIh",
        "outputId": "82607f0d-628d-4dfe-e9a2-62038737ac22"
      },
      "source": [
        "#train_df_new2 = spark.createDataFrame(result_df)\n",
        "train_df_new2.dtypes\n",
        "len(result_df[result_df['Response'] == 1.0])"
      ],
      "execution_count": 45,
      "outputs": [
        {
          "output_type": "execute_result",
          "data": {
            "text/plain": [
              "46710"
            ]
          },
          "metadata": {
            "tags": []
          },
          "execution_count": 45
        }
      ]
    },
    {
      "cell_type": "code",
      "metadata": {
        "colab": {
          "base_uri": "https://localhost:8080/"
        },
        "id": "tYVABKj6236b",
        "outputId": "b43719d4-cc19-4021-d6e0-63a7d8f28b60"
      },
      "source": [
        "##DT\n",
        "from pyspark.ml.classification import DecisionTreeClassifier\n",
        "dt = DecisionTreeClassifier(labelCol=\"Response\", featuresCol=\"features\")\n",
        "#dt_model = dt.fit(training_df)\n",
        "#dt_predict = dt_model.transform(testing_df)\n",
        "dt_pipeline = Pipeline(stages=[vecAssembler, dt]).fit(training_df)\n",
        "dt_model = dt_pipeline.transform(testing_df)\n",
        "print(evaluator.evaluate(dt_model))"
      ],
      "execution_count": 48,
      "outputs": [
        {
          "output_type": "stream",
          "text": [
            "0.8149665398832767\n"
          ],
          "name": "stdout"
        }
      ]
    },
    {
      "cell_type": "code",
      "metadata": {
        "colab": {
          "base_uri": "https://localhost:8080/"
        },
        "id": "mgf8-AcZ3RbB",
        "outputId": "9d6298b3-f231-4588-b4e7-e96490d6db55"
      },
      "source": [
        "#LR\n",
        "from pyspark.ml.classification import LogisticRegression\n",
        "lr = LogisticRegression(labelCol=\"Response\", featuresCol=\"features\")\n",
        "\n",
        "lr_pipeline = Pipeline(stages=[vecAssembler, lr]).fit(training_df)\n",
        "lr_model = lr_pipeline.transform(testing_df)\n",
        "print(evaluator.evaluate(lr_model))"
      ],
      "execution_count": 49,
      "outputs": [
        {
          "output_type": "stream",
          "text": [
            "0.8315742880907778\n"
          ],
          "name": "stdout"
        }
      ]
    },
    {
      "cell_type": "code",
      "metadata": {
        "colab": {
          "base_uri": "https://localhost:8080/"
        },
        "id": "P5OCEOFh4fcb",
        "outputId": "6bb6306a-c868-4b90-c16c-2750242374bf"
      },
      "source": [
        "from sklearn.metrics import precision_score, recall_score\n",
        "from sklearn.metrics import classification_report\n",
        "\n",
        "rf_y_true = rf_model.select(['Response']).collect()\n",
        "rf_y_pred = rf_model.select(['prediction']).collect()\n",
        "\n",
        "print(classification_report(rf_y_true, rf_y_pred))"
      ],
      "execution_count": 50,
      "outputs": [
        {
          "output_type": "stream",
          "text": [
            "              precision    recall  f1-score   support\n",
            "\n",
            "         0.0       0.91      0.65      0.76     13815\n",
            "         1.0       0.73      0.93      0.82     13884\n",
            "\n",
            "    accuracy                           0.79     27699\n",
            "   macro avg       0.82      0.79      0.79     27699\n",
            "weighted avg       0.82      0.79      0.79     27699\n",
            "\n"
          ],
          "name": "stdout"
        }
      ]
    },
    {
      "cell_type": "code",
      "metadata": {
        "colab": {
          "base_uri": "https://localhost:8080/"
        },
        "id": "-vxs73H446Qt",
        "outputId": "a37f1168-54ab-4369-d35f-182a1ede8f73"
      },
      "source": [
        "dt_y_true = dt_model.select(['Response']).collect()\n",
        "dt_y_pred = dt_model.select(['prediction']).collect()\n",
        "\n",
        "print(classification_report(dt_y_true, dt_y_pred))"
      ],
      "execution_count": 51,
      "outputs": [
        {
          "output_type": "stream",
          "text": [
            "              precision    recall  f1-score   support\n",
            "\n",
            "         0.0       0.88      0.67      0.76     13815\n",
            "         1.0       0.74      0.91      0.81     13884\n",
            "\n",
            "    accuracy                           0.79     27699\n",
            "   macro avg       0.81      0.79      0.79     27699\n",
            "weighted avg       0.81      0.79      0.79     27699\n",
            "\n"
          ],
          "name": "stdout"
        }
      ]
    },
    {
      "cell_type": "code",
      "metadata": {
        "colab": {
          "base_uri": "https://localhost:8080/"
        },
        "id": "eRfR8lfL5Enb",
        "outputId": "a3c86ed9-57ff-4776-dd67-f2563e9e1efe"
      },
      "source": [
        "lr_y_true = lr_model.select(['Response']).collect()\n",
        "lr_y_pred = lr_model.select(['prediction']).collect()\n",
        "\n",
        "print(classification_report(lr_y_true, lr_y_pred))"
      ],
      "execution_count": 52,
      "outputs": [
        {
          "output_type": "stream",
          "text": [
            "              precision    recall  f1-score   support\n",
            "\n",
            "         0.0       0.96      0.59      0.73     13815\n",
            "         1.0       0.71      0.98      0.82     13884\n",
            "\n",
            "    accuracy                           0.78     27699\n",
            "   macro avg       0.83      0.78      0.78     27699\n",
            "weighted avg       0.83      0.78      0.78     27699\n",
            "\n"
          ],
          "name": "stdout"
        }
      ]
    },
    {
      "cell_type": "code",
      "metadata": {
        "colab": {
          "base_uri": "https://localhost:8080/"
        },
        "id": "ULs66G4O8OmH",
        "outputId": "89ecd68c-8d4a-4583-fe39-5085ff1ffa0f"
      },
      "source": [
        "from pyspark.ml.classification import GBTClassifier\n",
        "gbt = GBTClassifier(maxIter=10,labelCol='Response', featuresCol='features')\n",
        "\n",
        "gbt_pipeline = Pipeline(stages=[vecAssembler, gbt]).fit(training_df)\n",
        "gbt_model = gbt_pipeline.transform(testing_df)\n",
        "print(evaluator.evaluate(gbt_model))"
      ],
      "execution_count": 53,
      "outputs": [
        {
          "output_type": "stream",
          "text": [
            "0.8491883136349335\n"
          ],
          "name": "stdout"
        }
      ]
    },
    {
      "cell_type": "code",
      "metadata": {
        "colab": {
          "base_uri": "https://localhost:8080/"
        },
        "id": "13urAiAX879t",
        "outputId": "f70f64b8-629b-4177-b852-d532750764e8"
      },
      "source": [
        "gbt_y_true = gbt_model.select(['Response']).collect()\n",
        "gbt_y_pred = gbt_model.select(['prediction']).collect()\n",
        "\n",
        "print(classification_report(gbt_y_true, gbt_y_pred))"
      ],
      "execution_count": 54,
      "outputs": [
        {
          "output_type": "stream",
          "text": [
            "              precision    recall  f1-score   support\n",
            "\n",
            "         0.0       0.92      0.65      0.76     13815\n",
            "         1.0       0.73      0.94      0.82     13884\n",
            "\n",
            "    accuracy                           0.79     27699\n",
            "   macro avg       0.82      0.79      0.79     27699\n",
            "weighted avg       0.82      0.79      0.79     27699\n",
            "\n"
          ],
          "name": "stdout"
        }
      ]
    },
    {
      "cell_type": "code",
      "metadata": {
        "id": "KdjXUAfSGxBI"
      },
      "source": [
        "rf_estimator = Pipeline(stages=[vecAssembler, rf])"
      ],
      "execution_count": 55,
      "outputs": []
    },
    {
      "cell_type": "code",
      "metadata": {
        "colab": {
          "base_uri": "https://localhost:8080/"
        },
        "id": "xZl1AKK8G6ZJ",
        "outputId": "6d64af9b-9af5-4634-be83-0b8f4364ae1a"
      },
      "source": [
        "import numpy as np\n",
        "from pyspark.ml.tuning import ParamGridBuilder\n",
        "\n",
        "enable_grid_search = True\n",
        "if enable_grid_search:\n",
        "  grid = ParamGridBuilder().addGrid(rf.numTrees, [10, 15, 20, 25, 30]).addGrid(rf.maxDepth, [5, 10, 15]).addGrid(rf.maxBins, [10, 20, 30]).build()\n",
        "  all_models = []\n",
        "  for i in range(len(grid)):\n",
        "    model = rf_estimator.fit(training_df, grid[i])\n",
        "    all_models.append(model)\n",
        "  auc = []\n",
        "  for m in all_models:\n",
        "    new_rf_model = m.transform(testing_df)\n",
        "    auc.append(evaluator.evaluate(new_rf_model))\n",
        "  best_model_idx = np.argmax(auc)\n",
        "  print(\"best model index =\", best_model_idx)\n",
        "  print(grid[best_model_idx])\n",
        "  pass\n",
        "\n",
        "#25, 10, 30"
      ],
      "execution_count": 58,
      "outputs": [
        {
          "output_type": "stream",
          "text": [
            "best model index = 32\n",
            "{Param(parent='RandomForestClassifier_5dacac8edead', name='numTrees', doc='Number of trees to train (>= 1).'): 25, Param(parent='RandomForestClassifier_5dacac8edead', name='maxDepth', doc='Maximum depth of the tree. (>= 0) E.g., depth 0 means 1 leaf node; depth 1 means 1 internal node + 2 leaf nodes.'): 10, Param(parent='RandomForestClassifier_5dacac8edead', name='maxBins', doc='Max number of bins for discretizing continuous features.  Must be >=2 and >= number of categories for any categorical feature.'): 30}\n"
          ],
          "name": "stdout"
        }
      ]
    },
    {
      "cell_type": "code",
      "metadata": {
        "colab": {
          "base_uri": "https://localhost:8080/"
        },
        "id": "K67B7EEJVQPG",
        "outputId": "101802f7-c11a-43fd-af5d-1766129d48f2"
      },
      "source": [
        "#optimal RF model\n",
        "num_trees = 25\n",
        "max_depth = 10\n",
        "max_bins = 30\n",
        "\n",
        "optimal_rf = RandomForestClassifier().setLabelCol('Response').setFeaturesCol('features').setNumTrees(num_trees).setMaxDepth(max_depth).setMaxBins(max_bins)\n",
        "rf_best_pipe = Pipeline(stages=[vecAssembler, optimal_rf]).fit(training_df)\n",
        "best_rf_model = rf_best_pipe.transform(testing_df)\n",
        "print(evaluator.evaluate(best_rf_model))"
      ],
      "execution_count": 59,
      "outputs": [
        {
          "output_type": "stream",
          "text": [
            "0.853758628574717\n"
          ],
          "name": "stdout"
        }
      ]
    }
  ]
}